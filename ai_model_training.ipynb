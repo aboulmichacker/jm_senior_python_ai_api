{
 "cells": [
  {
   "cell_type": "code",
   "execution_count": 39,
   "metadata": {},
   "outputs": [],
   "source": [
    "import numpy as np\n",
    "import pandas as pd\n",
    "from sklearn.model_selection import GridSearchCV\n",
    "from sklearn.model_selection import train_test_split\n",
    "from sklearn.ensemble import RandomForestRegressor\n",
    "from sklearn.metrics import mean_squared_error, r2_score\n",
    "\n",
    "import joblib"
   ]
  },
  {
   "cell_type": "code",
   "execution_count": 37,
   "metadata": {},
   "outputs": [
    {
     "name": "stdout",
     "output_type": "stream",
     "text": [
      "   quiz_score  quiz_time_taken  study_duration\n",
      "0        37.0             11.0           2.625\n",
      "1        95.0              9.0           1.075\n",
      "2        73.0              6.0           1.475\n",
      "3        60.0             13.0           2.150\n",
      "4        16.0             11.0           3.150\n"
     ]
    }
   ],
   "source": [
    "\n",
    "# Set random seed for reproducibility\n",
    "np.random.seed(42)\n",
    "\n",
    "# Generate 500 samples\n",
    "num_rows = 500\n",
    "\n",
    "# Random scores (0-100) and times (2-15 min)\n",
    "quiz_score = np.round(np.random.uniform(0, 100, num_rows))\n",
    "quiz_time_taken = np.round(np.random.uniform(2, 15, num_rows))\n",
    "\n",
    "# Calculate study hours: base formula + noise\n",
    "# Lower score increases hours, higher time increases hours\n",
    "study_duration = (6 - (quiz_score / 20) + (quiz_time_taken / 10)) / 2  # Adjusted to keep range 0.5-5\n",
    "study_duration = np.clip(study_duration + np.round(np.random.normal(0, 0.3, num_rows)), 0.5, 5.0)  # Add noise, cap at 0.5-5\n",
    "\n",
    "# Create DataFrame\n",
    "df = pd.DataFrame({\n",
    "    'quiz_score': quiz_score,\n",
    "    'quiz_time_taken': quiz_time_taken,\n",
    "    'study_duration': study_duration\n",
    "})\n",
    "\n",
    "print(df.head())\n",
    "\n",
    "\n"
   ]
  },
  {
   "cell_type": "code",
   "execution_count": 42,
   "metadata": {},
   "outputs": [
    {
     "name": "stdout",
     "output_type": "stream",
     "text": [
      "Mean Squared Error: 0.10769911407253754\n",
      "Root Mean Squared Error: 0.3281754318539667\n",
      "R-squared: 0.8231736723257029\n"
     ]
    }
   ],
   "source": [
    "\n",
    "data = pd.DataFrame(df)\n",
    "#  Define features (X) and target (y)\n",
    "X = data[['quiz_score', 'quiz_time_taken']]  # Add other features if you have them\n",
    "y = data['study_duration']\n",
    "\n",
    "#  Split data into training and testing sets\n",
    "X_train, X_test, y_train, y_test = train_test_split(X, y, test_size=0.2, random_state=42)\n",
    "\n",
    "#  Define the parameter grid\n",
    "param_grid = {\n",
    "    'n_estimators': [100, 200, 300],\n",
    "    'max_depth': [5, 8, 10],\n",
    "    'min_samples_leaf': [3, 5, 8],\n",
    "    'min_samples_split': [2, 5, 10]\n",
    "}\n",
    "\n",
    "\n",
    "\n",
    "# Create the Random Forest Regressor\n",
    "rf_reg = RandomForestRegressor(max_depth= 5, min_samples_leaf= 3, min_samples_split= 2, n_estimators= 200, random_state=42)\n",
    "\n",
    "rf_reg.fit(X_train, y_train)\n",
    "\n",
    "y_pred = rf_reg.predict(X_test)\n",
    "\n",
    "#  Evaluate the model\n",
    "mse = mean_squared_error(y_test, y_pred)\n",
    "rmse = mse**0.5\n",
    "r2 = r2_score(y_test, y_pred)\n",
    "\n",
    "print(f\"Mean Squared Error: {mse}\")\n",
    "print(f\"Root Mean Squared Error: {rmse}\")\n",
    "print(f\"R-squared: {r2}\")"
   ]
  },
  {
   "cell_type": "code",
   "execution_count": 43,
   "metadata": {},
   "outputs": [
    {
     "name": "stdout",
     "output_type": "stream",
     "text": [
      "Predicted study duration: 2.0590810204427585\n"
     ]
    }
   ],
   "source": [
    "# Example of making a prediction for a new student:\n",
    "new_student_data = pd.DataFrame({'quiz_score': [65], 'quiz_time_taken': [10]})  # Example values\n",
    "predicted_study_duration = rf_reg.predict(new_student_data)\n",
    "print(f\"Predicted study duration: {predicted_study_duration[0]}\")\n",
    "\n"
   ]
  },
  {
   "cell_type": "code",
   "execution_count": 44,
   "metadata": {},
   "outputs": [
    {
     "data": {
      "text/plain": [
       "['model.joblib']"
      ]
     },
     "execution_count": 44,
     "metadata": {},
     "output_type": "execute_result"
    }
   ],
   "source": [
    "\n",
    "\n",
    "filename = 'model.joblib'\n",
    "joblib.dump(rf_reg, filename)"
   ]
  }
 ],
 "metadata": {
  "kernelspec": {
   "display_name": "Python 3",
   "language": "python",
   "name": "python3"
  },
  "language_info": {
   "codemirror_mode": {
    "name": "ipython",
    "version": 3
   },
   "file_extension": ".py",
   "mimetype": "text/x-python",
   "name": "python",
   "nbconvert_exporter": "python",
   "pygments_lexer": "ipython3",
   "version": "3.12.1"
  }
 },
 "nbformat": 4,
 "nbformat_minor": 2
}
